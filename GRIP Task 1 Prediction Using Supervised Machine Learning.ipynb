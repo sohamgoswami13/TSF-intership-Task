{
 "cells": [
  {
   "cell_type": "markdown",
   "id": "88f00cc7-d6c4-426c-9097-1301c346c7bd",
   "metadata": {},
   "source": [
    "## Data Science & Business Analysis Intern - April 2023"
   ]
  },
  {
   "cell_type": "markdown",
   "id": "6dc41460-1eaf-4933-b205-6c430fafb906",
   "metadata": {},
   "source": [
    "**Task 1: Prediction Using Supervised Machine Learning**"
   ]
  },
  {
   "cell_type": "markdown",
   "id": "e9c28bbf-f0b0-465e-8eef-33e062364028",
   "metadata": {},
   "source": [
    "The task is to predict the performance of a student based on the number of his/her study hours using linear regression"
   ]
  },
  {
   "cell_type": "markdown",
   "id": "de990c0b-fb0d-4f44-b2c6-7565a1c15526",
   "metadata": {
    "jp-MarkdownHeadingCollapsed": true,
    "tags": []
   },
   "source": [
    "## Steps:"
   ]
  },
  {
   "cell_type": "markdown",
   "id": "42bd6307-04d5-4f6a-b014-3fb488c5082f",
   "metadata": {},
   "source": [
    "1)Importing the dataset \n",
    "2)Data Visualization \n",
    "3)Dividing the data \n",
    "4)Data Training \n",
    "5)Model Visualization \n",
    "6)Applying Predictions \n",
    "7)Model Evaluation"
   ]
  },
  {
   "cell_type": "markdown",
   "id": "98528f43-5f57-4c1b-b687-adf42052fc63",
   "metadata": {},
   "source": [
    "**Author: Soham Goswami**"
   ]
  },
  {
   "cell_type": "markdown",
   "id": "8c0c676c-320e-460b-bb89-587df3d8dd05",
   "metadata": {},
   "source": [
    "## Step 1: Importing the dataset"
   ]
  },
  {
   "cell_type": "code",
   "execution_count": 1,
   "id": "8553e709-be9f-4df2-8c3c-9dcd967085ba",
   "metadata": {},
   "outputs": [],
   "source": [
    "# importing the needed libraries\n",
    "import numpy as np\n",
    "import pandas as pd\n",
    "import matplotlib.pyplot as plt\n",
    "import seaborn as sns"
   ]
  },
  {
   "cell_type": "code",
   "execution_count": 2,
   "id": "0b1f3dcf-37b9-48ce-af44-bb477f111cf8",
   "metadata": {},
   "outputs": [
    {
     "name": "stdout",
     "output_type": "stream",
     "text": [
      "Data imported successfully\n"
     ]
    }
   ],
   "source": [
    "# reading the data from a csv file using pandas library\n",
    "url_path = 'https://raw.githubusercontent.com/AdiPersonalWorks/Random/master/student_scores%20-%20student_scores.csv'\n",
    "studentScores = pd.read_csv(url_path)\n",
    "print(\"Data imported successfully\")"
   ]
  },
  {
   "cell_type": "code",
   "execution_count": 3,
   "id": "e4564323-3311-49b1-9322-99aaa0ad58ce",
   "metadata": {},
   "outputs": [
    {
     "data": {
      "text/html": [
       "<div>\n",
       "<style scoped>\n",
       "    .dataframe tbody tr th:only-of-type {\n",
       "        vertical-align: middle;\n",
       "    }\n",
       "\n",
       "    .dataframe tbody tr th {\n",
       "        vertical-align: top;\n",
       "    }\n",
       "\n",
       "    .dataframe thead th {\n",
       "        text-align: right;\n",
       "    }\n",
       "</style>\n",
       "<table border=\"1\" class=\"dataframe\">\n",
       "  <thead>\n",
       "    <tr style=\"text-align: right;\">\n",
       "      <th></th>\n",
       "      <th>Hours</th>\n",
       "      <th>Scores</th>\n",
       "    </tr>\n",
       "  </thead>\n",
       "  <tbody>\n",
       "    <tr>\n",
       "      <th>0</th>\n",
       "      <td>2.5</td>\n",
       "      <td>21</td>\n",
       "    </tr>\n",
       "    <tr>\n",
       "      <th>1</th>\n",
       "      <td>5.1</td>\n",
       "      <td>47</td>\n",
       "    </tr>\n",
       "    <tr>\n",
       "      <th>2</th>\n",
       "      <td>3.2</td>\n",
       "      <td>27</td>\n",
       "    </tr>\n",
       "    <tr>\n",
       "      <th>3</th>\n",
       "      <td>8.5</td>\n",
       "      <td>75</td>\n",
       "    </tr>\n",
       "    <tr>\n",
       "      <th>4</th>\n",
       "      <td>3.5</td>\n",
       "      <td>30</td>\n",
       "    </tr>\n",
       "  </tbody>\n",
       "</table>\n",
       "</div>"
      ],
      "text/plain": [
       "   Hours  Scores\n",
       "0    2.5      21\n",
       "1    5.1      47\n",
       "2    3.2      27\n",
       "3    8.5      75\n",
       "4    3.5      30"
      ]
     },
     "execution_count": 3,
     "metadata": {},
     "output_type": "execute_result"
    }
   ],
   "source": [
    "# to view the first 5 entries \n",
    "studentScores.head()"
   ]
  },
  {
   "cell_type": "code",
   "execution_count": 4,
   "id": "c15d8f83-252b-471f-9ecf-a0747a491557",
   "metadata": {},
   "outputs": [
    {
     "data": {
      "text/plain": [
       "(25, 2)"
      ]
     },
     "execution_count": 4,
     "metadata": {},
     "output_type": "execute_result"
    }
   ],
   "source": [
    "# to observe the number of rows and columns\n",
    "studentScores.shape"
   ]
  },
  {
   "cell_type": "code",
   "execution_count": 5,
   "id": "59537a4d-d702-4cb6-bad9-b10c2d3ab70e",
   "metadata": {},
   "outputs": [
    {
     "data": {
      "text/plain": [
       "Index(['Hours', 'Scores'], dtype='object')"
      ]
     },
     "execution_count": 5,
     "metadata": {},
     "output_type": "execute_result"
    }
   ],
   "source": [
    "# to observe column names\n",
    "studentScores.columns"
   ]
  },
  {
   "cell_type": "code",
   "execution_count": 6,
   "id": "a2ca3478-0441-4947-bcdd-af8e560b1190",
   "metadata": {},
   "outputs": [
    {
     "data": {
      "text/plain": [
       "Hours     float64\n",
       "Scores      int64\n",
       "dtype: object"
      ]
     },
     "execution_count": 6,
     "metadata": {},
     "output_type": "execute_result"
    }
   ],
   "source": [
    "# to observe their data types\n",
    "studentScores.dtypes"
   ]
  },
  {
   "cell_type": "code",
   "execution_count": 7,
   "id": "c7cf120f-9d0d-4e34-b517-b87ad0a6b4b6",
   "metadata": {},
   "outputs": [
    {
     "name": "stdout",
     "output_type": "stream",
     "text": [
      "<class 'pandas.core.frame.DataFrame'>\n",
      "RangeIndex: 25 entries, 0 to 24\n",
      "Data columns (total 2 columns):\n",
      " #   Column  Non-Null Count  Dtype  \n",
      "---  ------  --------------  -----  \n",
      " 0   Hours   25 non-null     float64\n",
      " 1   Scores  25 non-null     int64  \n",
      "dtypes: float64(1), int64(1)\n",
      "memory usage: 528.0 bytes\n"
     ]
    }
   ],
   "source": [
    "# to know more information about the dataset\n",
    "studentScores.info()"
   ]
  },
  {
   "cell_type": "code",
   "execution_count": 8,
   "id": "896cd816-892e-4d3f-8a2f-fbfad98f8ae9",
   "metadata": {},
   "outputs": [
    {
     "data": {
      "text/html": [
       "<div>\n",
       "<style scoped>\n",
       "    .dataframe tbody tr th:only-of-type {\n",
       "        vertical-align: middle;\n",
       "    }\n",
       "\n",
       "    .dataframe tbody tr th {\n",
       "        vertical-align: top;\n",
       "    }\n",
       "\n",
       "    .dataframe thead th {\n",
       "        text-align: right;\n",
       "    }\n",
       "</style>\n",
       "<table border=\"1\" class=\"dataframe\">\n",
       "  <thead>\n",
       "    <tr style=\"text-align: right;\">\n",
       "      <th></th>\n",
       "      <th>Hours</th>\n",
       "      <th>Scores</th>\n",
       "    </tr>\n",
       "  </thead>\n",
       "  <tbody>\n",
       "    <tr>\n",
       "      <th>count</th>\n",
       "      <td>25.000000</td>\n",
       "      <td>25.000000</td>\n",
       "    </tr>\n",
       "    <tr>\n",
       "      <th>mean</th>\n",
       "      <td>5.012000</td>\n",
       "      <td>51.480000</td>\n",
       "    </tr>\n",
       "    <tr>\n",
       "      <th>std</th>\n",
       "      <td>2.525094</td>\n",
       "      <td>25.286887</td>\n",
       "    </tr>\n",
       "    <tr>\n",
       "      <th>min</th>\n",
       "      <td>1.100000</td>\n",
       "      <td>17.000000</td>\n",
       "    </tr>\n",
       "    <tr>\n",
       "      <th>25%</th>\n",
       "      <td>2.700000</td>\n",
       "      <td>30.000000</td>\n",
       "    </tr>\n",
       "    <tr>\n",
       "      <th>50%</th>\n",
       "      <td>4.800000</td>\n",
       "      <td>47.000000</td>\n",
       "    </tr>\n",
       "    <tr>\n",
       "      <th>75%</th>\n",
       "      <td>7.400000</td>\n",
       "      <td>75.000000</td>\n",
       "    </tr>\n",
       "    <tr>\n",
       "      <th>max</th>\n",
       "      <td>9.200000</td>\n",
       "      <td>95.000000</td>\n",
       "    </tr>\n",
       "  </tbody>\n",
       "</table>\n",
       "</div>"
      ],
      "text/plain": [
       "           Hours     Scores\n",
       "count  25.000000  25.000000\n",
       "mean    5.012000  51.480000\n",
       "std     2.525094  25.286887\n",
       "min     1.100000  17.000000\n",
       "25%     2.700000  30.000000\n",
       "50%     4.800000  47.000000\n",
       "75%     7.400000  75.000000\n",
       "max     9.200000  95.000000"
      ]
     },
     "execution_count": 8,
     "metadata": {},
     "output_type": "execute_result"
    }
   ],
   "source": [
    "# to observe more statistical information as mean, standard deviation, min, max and quartiles\n",
    "studentScores.describe()"
   ]
  },
  {
   "cell_type": "code",
   "execution_count": 9,
   "id": "aef10303-eb7c-49f6-95e6-31141ea9aca7",
   "metadata": {},
   "outputs": [
    {
     "data": {
      "text/plain": [
       "Hours     0\n",
       "Scores    0\n",
       "dtype: int64"
      ]
     },
     "execution_count": 9,
     "metadata": {},
     "output_type": "execute_result"
    }
   ],
   "source": [
    "# to check if our dataset contains null values\n",
    "studentScores.isnull().sum()"
   ]
  },
  {
   "cell_type": "markdown",
   "id": "329fa8f6-d1ff-468a-aabd-f81334432fe0",
   "metadata": {},
   "source": [
    "## Step 2: Data Visualization"
   ]
  },
  {
   "cell_type": "markdown",
   "id": "446c71f5-d1f1-452d-9b2e-4bff3d5688ec",
   "metadata": {},
   "source": [
    "Plotting the dataset to view whether the variables maintain a relationship between them or not"
   ]
  },
  {
   "cell_type": "code",
   "execution_count": 10,
   "id": "c109a2bb-9c23-4f33-8d14-68b02d75baa8",
   "metadata": {},
   "outputs": [
    {
     "data": {
      "image/png": "[encoded data removed]",
      "text/plain": [
       "<Figure size 640x480 with 1 Axes>"
      ]
     },
     "metadata": {},
     "output_type": "display_data"
    }
   ],
   "source": [
    "#Plotting the dataset using matplotlib library\n",
    "# style is how the points are shaped on the graph\n",
    "studentScores.plot(x='Hours', y='Scores', style='o')  \n",
    "plt.title('Hours vs Percentage')  \n",
    "plt.xlabel('Hours Studied')  \n",
    "plt.ylabel('Percentage Score') \n",
    "plt.show()"
   ]
  },
  {
   "cell_type": "markdown",
   "id": "d6972390-2f00-49a5-ba08-db84ab74d56a",
   "metadata": {},
   "source": [
    "From the graph above, we can deduce that there is a linear relationship between \"Hours studied\" and \"Percentage Score\". Thus, we can use linear regression supervised machine learning model to predict future results"
   ]
  },
  {
   "cell_type": "code",
   "execution_count": 11,
   "id": "a06f6619-55c0-4cf3-a6cc-b7463960f19d",
   "metadata": {},
   "outputs": [
    {
     "data": {
      "text/html": [
       "<div>\n",
       "<style scoped>\n",
       "    .dataframe tbody tr th:only-of-type {\n",
       "        vertical-align: middle;\n",
       "    }\n",
       "\n",
       "    .dataframe tbody tr th {\n",
       "        vertical-align: top;\n",
       "    }\n",
       "\n",
       "    .dataframe thead th {\n",
       "        text-align: right;\n",
       "    }\n",
       "</style>\n",
       "<table border=\"1\" class=\"dataframe\">\n",
       "  <thead>\n",
       "    <tr style=\"text-align: right;\">\n",
       "      <th></th>\n",
       "      <th>Hours</th>\n",
       "      <th>Scores</th>\n",
       "    </tr>\n",
       "  </thead>\n",
       "  <tbody>\n",
       "    <tr>\n",
       "      <th>Hours</th>\n",
       "      <td>1.000000</td>\n",
       "      <td>0.976191</td>\n",
       "    </tr>\n",
       "    <tr>\n",
       "      <th>Scores</th>\n",
       "      <td>0.976191</td>\n",
       "      <td>1.000000</td>\n",
       "    </tr>\n",
       "  </tbody>\n",
       "</table>\n",
       "</div>"
      ],
      "text/plain": [
       "           Hours    Scores\n",
       "Hours   1.000000  0.976191\n",
       "Scores  0.976191  1.000000"
      ]
     },
     "execution_count": 11,
     "metadata": {},
     "output_type": "execute_result"
    }
   ],
   "source": [
    "# to view the correlation between the variables\n",
    "studentScores.corr()"
   ]
  },
  {
   "cell_type": "markdown",
   "id": "5e298afb-41bb-4f45-81f4-e5daeff6bdfb",
   "metadata": {},
   "source": [
    "For every 1 hour, score is 0.98 which means that there is a strong positive correlation between the variables"
   ]
  },
  {
   "cell_type": "code",
   "execution_count": 13,
   "id": "9e92ff06-5b30-4b89-a048-a9412aab57de",
   "metadata": {},
   "outputs": [
    {
     "data": {
      "image/png": "[encoded data removed]",
      "text/plain": [
       "<Figure size 640x480 with 2 Axes>"
      ]
     },
     "metadata": {},
     "output_type": "display_data"
    }
   ],
   "source": [
    "# to view a correlation graph\n",
    "corr_graph = sns.heatmap(studentScores.corr(), cmap=\"YlGnBu\", annot=True)\n",
    "  \n",
    "plt.show()"
   ]
  },
  {
   "cell_type": "markdown",
   "id": "3b704578-dabf-4a51-8a54-a6858cec6a1e",
   "metadata": {},
   "source": [
    "## Step 3: Dividing the data"
   ]
  },
  {
   "cell_type": "markdown",
   "id": "d7fdcf06-f4a9-4a7a-806e-aa6d1fa2bd11",
   "metadata": {},
   "source": [
    "In this step, we will divide the data into two parts (training and testing)"
   ]
  },
  {
   "cell_type": "code",
   "execution_count": 14,
   "id": "0ca58b46-bafd-4baa-a87f-b9319b6b34a1",
   "metadata": {},
   "outputs": [],
   "source": [
    "#using iloc function we will separate the columns\n",
    "X = studentScores.iloc[:, :1].values  \n",
    "Y = studentScores.iloc[:, 1].values"
   ]
  },
  {
   "cell_type": "markdown",
   "id": "b8c06a97-c376-441a-a6e1-94ea4d0425e9",
   "metadata": {},
   "source": [
    "X will be saving the values of the first column which is \"hours\" and Y will be saving the values of the second column which is \"scores\""
   ]
  },
  {
   "cell_type": "code",
   "execution_count": 15,
   "id": "1a82afdf-5900-4b01-ab76-16d0547b0543",
   "metadata": {},
   "outputs": [
    {
     "data": {
      "text/plain": [
       "array([[2.5],\n",
       "       [5.1],\n",
       "       [3.2],\n",
       "       [8.5],\n",
       "       [3.5],\n",
       "       [1.5],\n",
       "       [9.2],\n",
       "       [5.5],\n",
       "       [8.3],\n",
       "       [2.7],\n",
       "       [7.7],\n",
       "       [5.9],\n",
       "       [4.5],\n",
       "       [3.3],\n",
       "       [1.1],\n",
       "       [8.9],\n",
       "       [2.5],\n",
       "       [1.9],\n",
       "       [6.1],\n",
       "       [7.4],\n",
       "       [2.7],\n",
       "       [4.8],\n",
       "       [3.8],\n",
       "       [6.9],\n",
       "       [7.8]])"
      ]
     },
     "execution_count": 15,
     "metadata": {},
     "output_type": "execute_result"
    }
   ],
   "source": [
    "X"
   ]
  },
  {
   "cell_type": "code",
   "execution_count": 16,
   "id": "bc076e57-be40-411e-9a5f-c712b4fd5464",
   "metadata": {},
   "outputs": [
    {
     "data": {
      "text/plain": [
       "array([21, 47, 27, 75, 30, 20, 88, 60, 81, 25, 85, 62, 41, 42, 17, 95, 30,\n",
       "       24, 67, 69, 30, 54, 35, 76, 86])"
      ]
     },
     "execution_count": 16,
     "metadata": {},
     "output_type": "execute_result"
    }
   ],
   "source": [
    "Y"
   ]
  },
  {
   "cell_type": "code",
   "execution_count": 17,
   "id": "768c67af-9f25-4c9f-b5bd-65756bff153f",
   "metadata": {},
   "outputs": [],
   "source": [
    "# splitting the data into training and testing data\n",
    "from sklearn.model_selection import train_test_split  \n",
    "X_train, X_test, Y_train, Y_test = train_test_split(X, Y, test_size=0.2, random_state=0)"
   ]
  },
  {
   "cell_type": "markdown",
   "id": "493891ac-b4ab-4d33-989c-89f098c3e2ed",
   "metadata": {},
   "source": [
    "This means that data is divided with a portion of 80% training data and 20% testing data\n",
    "\n",
    "Random state=0 means that data will be picked randomly from the dataset"
   ]
  },
  {
   "cell_type": "markdown",
   "id": "82c4b87d-5232-461d-a8c7-30d62803fb57",
   "metadata": {},
   "source": [
    "## Step 4: Data Training"
   ]
  },
  {
   "cell_type": "markdown",
   "id": "293a2568-3e8d-4b86-9175-2cca693292ce",
   "metadata": {},
   "source": [
    "In this step, we will be applying linear regression model on the training data we have obtained"
   ]
  },
  {
   "cell_type": "code",
   "execution_count": 18,
   "id": "dee2c25f-575d-4f06-ad17-765ed39b06e4",
   "metadata": {},
   "outputs": [
    {
     "name": "stdout",
     "output_type": "stream",
     "text": [
      "Training complete.\n"
     ]
    }
   ],
   "source": [
    "from sklearn.linear_model import LinearRegression  \n",
    "regressor = LinearRegression()  \n",
    "regressor.fit(X_train, Y_train) \n",
    "\n",
    "print(\"Training complete.\")"
   ]
  },
  {
   "cell_type": "markdown",
   "id": "2eefa14b-2db4-4e10-b13f-5c2de82ef4ce",
   "metadata": {},
   "source": [
    "## Step 5: Model Visualization"
   ]
  },
  {
   "cell_type": "markdown",
   "id": "a70dab04-8e0f-4f85-987d-65c1caca0349",
   "metadata": {},
   "source": [
    "Visualizing the model after training"
   ]
  },
  {
   "cell_type": "code",
   "execution_count": 19,
   "id": "1664b91d-bd36-4dfe-ba75-304a38cb954f",
   "metadata": {},
   "outputs": [
    {
     "data": {
      "image/png": "[encoded data removed]",
      "text/plain": [
       "<Figure size 640x480 with 1 Axes>"
      ]
     },
     "metadata": {},
     "output_type": "display_data"
    }
   ],
   "source": [
    "# m --> slope of the line \n",
    "m = regressor.coef_\n",
    "\n",
    "# c --> intercept of the line\n",
    "c = regressor.intercept_\n",
    "\n",
    "# to model the best-fit line\n",
    "line = m*X + c\n",
    "\n",
    "# Plotting the training data using matplotlib.pyplot library\n",
    "plt.scatter(X_train, Y_train)\n",
    "plt.plot(X, line, color= 'black');\n",
    "\n",
    "# to label the axis\n",
    "plt.xlabel('Hours Studied')\n",
    "plt.ylabel('Percentage Score')\n",
    "plt.show()"
   ]
  },
  {
   "cell_type": "code",
   "execution_count": 20,
   "id": "757edfb4-5f9c-4359-b16f-d773888a9d19",
   "metadata": {},
   "outputs": [
    {
     "data": {
      "image/png": "[encoded data removed]",
      "text/plain": [
       "<Figure size 640x480 with 1 Axes>"
      ]
     },
     "metadata": {},
     "output_type": "display_data"
    }
   ],
   "source": [
    "# Plotting the testing data using matplotlib.pyplot library\n",
    "plt.scatter(X_test, Y_test)\n",
    "plt.plot(X, line, color= 'black');\n",
    "\n",
    "# to label the axis\n",
    "plt.xlabel('Hours Studied')\n",
    "plt.ylabel('Percentage Score')\n",
    "plt.show()"
   ]
  },
  {
   "cell_type": "markdown",
   "id": "5d906d5e-9b8f-4b38-9782-8522e606b0f6",
   "metadata": {},
   "source": [
    "## Step 6: Applying Prediction"
   ]
  },
  {
   "cell_type": "markdown",
   "id": "b5ba4471-cce4-4692-87ed-9f15267a8d3e",
   "metadata": {},
   "source": [
    "Now it's time to make some predictions"
   ]
  },
  {
   "cell_type": "code",
   "execution_count": 21,
   "id": "8ff420ab-446f-4620-8dd0-eaae4f0a4b5d",
   "metadata": {},
   "outputs": [
    {
     "name": "stdout",
     "output_type": "stream",
     "text": [
      "[[1.5]\n",
      " [3.2]\n",
      " [7.4]\n",
      " [2.5]\n",
      " [5.9]]\n"
     ]
    }
   ],
   "source": [
    "# Printing the testing data (Hours)\n",
    "print(X_test) \n",
    "\n",
    "#Predicting the Scores \n",
    "Y_pred = regressor.predict(X_test) "
   ]
  },
  {
   "cell_type": "code",
   "execution_count": 22,
   "id": "3312761e-6519-4f37-9001-2edd98411685",
   "metadata": {},
   "outputs": [
    {
     "data": {
      "text/plain": [
       "array([20, 27, 69, 30, 62])"
      ]
     },
     "execution_count": 22,
     "metadata": {},
     "output_type": "execute_result"
    }
   ],
   "source": [
    "#Printing the testing data (Scores)\n",
    "Y_test"
   ]
  },
  {
   "cell_type": "code",
   "execution_count": 23,
   "id": "d1b86f66-a02d-4a34-8005-d2a46ffbc378",
   "metadata": {},
   "outputs": [
    {
     "data": {
      "text/plain": [
       "array([16.88414476, 33.73226078, 75.357018  , 26.79480124, 60.49103328])"
      ]
     },
     "execution_count": 23,
     "metadata": {},
     "output_type": "execute_result"
    }
   ],
   "source": [
    "#Printing the predicted data (Scores)\n",
    "Y_pred"
   ]
  },
  {
   "cell_type": "code",
   "execution_count": 24,
   "id": "0d23671d-347c-4742-8a03-ee1d0333b547",
   "metadata": {},
   "outputs": [
    {
     "data": {
      "text/html": [
       "<div>\n",
       "<style scoped>\n",
       "    .dataframe tbody tr th:only-of-type {\n",
       "        vertical-align: middle;\n",
       "    }\n",
       "\n",
       "    .dataframe tbody tr th {\n",
       "        vertical-align: top;\n",
       "    }\n",
       "\n",
       "    .dataframe thead th {\n",
       "        text-align: right;\n",
       "    }\n",
       "</style>\n",
       "<table border=\"1\" class=\"dataframe\">\n",
       "  <thead>\n",
       "    <tr style=\"text-align: right;\">\n",
       "      <th></th>\n",
       "      <th>Actual</th>\n",
       "      <th>Predicted</th>\n",
       "    </tr>\n",
       "  </thead>\n",
       "  <tbody>\n",
       "    <tr>\n",
       "      <th>0</th>\n",
       "      <td>20</td>\n",
       "      <td>16.884145</td>\n",
       "    </tr>\n",
       "    <tr>\n",
       "      <th>1</th>\n",
       "      <td>27</td>\n",
       "      <td>33.732261</td>\n",
       "    </tr>\n",
       "    <tr>\n",
       "      <th>2</th>\n",
       "      <td>69</td>\n",
       "      <td>75.357018</td>\n",
       "    </tr>\n",
       "    <tr>\n",
       "      <th>3</th>\n",
       "      <td>30</td>\n",
       "      <td>26.794801</td>\n",
       "    </tr>\n",
       "    <tr>\n",
       "      <th>4</th>\n",
       "      <td>62</td>\n",
       "      <td>60.491033</td>\n",
       "    </tr>\n",
       "  </tbody>\n",
       "</table>\n",
       "</div>"
      ],
      "text/plain": [
       "   Actual  Predicted\n",
       "0      20  16.884145\n",
       "1      27  33.732261\n",
       "2      69  75.357018\n",
       "3      30  26.794801\n",
       "4      62  60.491033"
      ]
     },
     "execution_count": 24,
     "metadata": {},
     "output_type": "execute_result"
    }
   ],
   "source": [
    "#Comparing Actual Vs Predicted using pandas library\n",
    "\n",
    "compare = pd.DataFrame({'Actual': Y_test, 'Predicted': Y_pred}) \n",
    "\n",
    "#printing 'compare'\n",
    "compare"
   ]
  },
  {
   "cell_type": "markdown",
   "id": "b9d2015f-3467-40e0-875b-7d7e05a065da",
   "metadata": {},
   "source": [
    "**Applying Prediction Model using 9.25 hours/day**"
   ]
  },
  {
   "cell_type": "code",
   "execution_count": 25,
   "id": "256d738d-69e1-47f7-8cfc-a47d8cf6ee89",
   "metadata": {},
   "outputs": [],
   "source": [
    "hours = 9.25\n",
    "predicted_Score = regressor.predict([[hours]])"
   ]
  },
  {
   "cell_type": "code",
   "execution_count": 26,
   "id": "61ea6eb7-0eea-4a5c-832f-450042845ba5",
   "metadata": {},
   "outputs": [
    {
     "name": "stdout",
     "output_type": "stream",
     "text": [
      "The predicted score if a student studies 9.25 hours per day is: 93.69173248737539\n"
     ]
    }
   ],
   "source": [
    "print (\"The predicted score if a student studies\",hours, \"hours per day is:\", predicted_Score[0])"
   ]
  },
  {
   "cell_type": "markdown",
   "id": "e58830d7-e6bb-4a14-a954-bf356d19a5e7",
   "metadata": {},
   "source": [
    "## Step 7: Model Evaluation"
   ]
  },
  {
   "cell_type": "markdown",
   "id": "4432d31f-45ed-4ea0-a394-7626e88b76f5",
   "metadata": {},
   "source": [
    "In conclusion, we will evaluate our model using mean absolute error"
   ]
  },
  {
   "cell_type": "code",
   "execution_count": 27,
   "id": "97c3e9cb-e353-4d7a-8935-a1b5f4eb5464",
   "metadata": {},
   "outputs": [
    {
     "name": "stdout",
     "output_type": "stream",
     "text": [
      "Mean Absolute Error: 4.183859899002982\n"
     ]
    }
   ],
   "source": [
    "from sklearn import metrics  \n",
    "print('Mean Absolute Error:', metrics.mean_absolute_error(Y_test, Y_pred))"
   ]
  }
 ],
 "metadata": {
  "kernelspec": {
   "display_name": "Python 3 (ipykernel)",
   "language": "python",
   "name": "python3"
  },
  "language_info": {
   "codemirror_mode": {
    "name": "ipython",
    "version": 3
   },
   "file_extension": ".py",
   "mimetype": "text/x-python",
   "name": "python",
   "nbconvert_exporter": "python",
   "pygments_lexer": "ipython3",
   "version": "3.10.8"
  }
 },
 "nbformat": 4,
 "nbformat_minor": 5
}
